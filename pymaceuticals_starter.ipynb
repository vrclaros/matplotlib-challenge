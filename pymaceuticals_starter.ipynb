{
 "cells": [
  {
   "cell_type": "markdown",
   "metadata": {},
   "source": [
    "## Observations and Insights "
   ]
  },
  {
   "cell_type": "code",
   "execution_count": 1,
   "metadata": {},
   "outputs": [],
   "source": [
    "# Dependencies and Setup\n",
    "import matplotlib.pyplot as plt\n",
    "import pandas as pd\n",
    "import scipy.stats as st\n",
    "\n",
    "# Study data files\n",
    "mouse_metadata_path = \"data/Mouse_metadata.csv\"\n",
    "study_results_path = \"data/Study_results.csv\"\n",
    "\n",
    "# Read the mouse data and the study results\n",
    "mouse_metadata = pd.read_csv(mouse_metadata_path)\n",
    "study_results = pd.read_csv(study_results_path)\n",
    "\n",
    "# Combine the data into a single dataset\n",
    "lab_data_complete = pd.merge(mouse_metadata, study_results, how=\"right\", on=[\"Mouse ID\", \"Mouse ID\"])\n",
    "\n",
    "#Convert dataset to dataframe\n",
    "df_lab = pd.DataFrame(lab_data_complete)"
   ]
  },
  {
   "cell_type": "code",
   "execution_count": 4,
   "metadata": {},
   "outputs": [
    {
     "name": "stdout",
     "output_type": "stream",
     "text": [
      "Total number of mice is 249\n"
     ]
    },
    {
     "data": {
      "text/plain": [
       "249"
      ]
     },
     "execution_count": 4,
     "metadata": {},
     "output_type": "execute_result"
    }
   ],
   "source": [
    "# Checking the number of mice in the DataFrame.\n",
    "total_mice = df_lab[\"Mouse ID\"].nunique()\n",
    "print(f'Total number of mice is {total_mice}')\n",
    "#total number of mice is 249"
   ]
  },
  {
   "cell_type": "code",
   "execution_count": 7,
   "metadata": {},
   "outputs": [
    {
     "data": {
      "text/html": [
       "<div>\n",
       "<style scoped>\n",
       "    .dataframe tbody tr th:only-of-type {\n",
       "        vertical-align: middle;\n",
       "    }\n",
       "\n",
       "    .dataframe tbody tr th {\n",
       "        vertical-align: top;\n",
       "    }\n",
       "\n",
       "    .dataframe thead th {\n",
       "        text-align: right;\n",
       "    }\n",
       "</style>\n",
       "<table border=\"1\" class=\"dataframe\">\n",
       "  <thead>\n",
       "    <tr style=\"text-align: right;\">\n",
       "      <th></th>\n",
       "      <th>Mouse ID</th>\n",
       "      <th>Drug Regimen</th>\n",
       "      <th>Sex</th>\n",
       "      <th>Age_months</th>\n",
       "      <th>Weight (g)</th>\n",
       "      <th>Timepoint</th>\n",
       "      <th>Tumor Volume (mm3)</th>\n",
       "      <th>Metastatic Sites</th>\n",
       "    </tr>\n",
       "  </thead>\n",
       "  <tbody>\n",
       "    <tr>\n",
       "      <th>909</th>\n",
       "      <td>g989</td>\n",
       "      <td>Propriva</td>\n",
       "      <td>Female</td>\n",
       "      <td>21</td>\n",
       "      <td>26</td>\n",
       "      <td>0</td>\n",
       "      <td>45.0</td>\n",
       "      <td>0</td>\n",
       "    </tr>\n",
       "  </tbody>\n",
       "</table>\n",
       "</div>"
      ],
      "text/plain": [
       "    Mouse ID Drug Regimen     Sex  Age_months  Weight (g)  Timepoint  \\\n",
       "909     g989     Propriva  Female          21          26          0   \n",
       "\n",
       "     Tumor Volume (mm3)  Metastatic Sites  \n",
       "909                45.0                 0  "
      ]
     },
     "execution_count": 7,
     "metadata": {},
     "output_type": "execute_result"
    }
   ],
   "source": [
    "# Getting the duplicate mice by ID number that shows up for Mouse ID and Timepoint. \n",
    "duplicate = df_lab[df_lab.duplicated()]\n",
    "duplicate"
   ]
  },
  {
   "cell_type": "code",
   "execution_count": 534,
   "metadata": {},
   "outputs": [],
   "source": [
    "# Optional: Get all the data for the duplicate mouse ID. \n",
    "duplicate_mouse = df_lab[(df_lab[\"Mouse ID\"] == \"g989\")]\n",
    "#duplicate_mouse"
   ]
  },
  {
   "cell_type": "code",
   "execution_count": 15,
   "metadata": {},
   "outputs": [],
   "source": [
    "# Create a clean DataFrame by dropping the duplicate mouse by its ID.\n",
    "total_rows = df_lab.count\n",
    "#1893 rows in dataframe df_lab\n",
    "\n",
    "df_labdata = df_lab.drop([909])\n",
    "duplicate2 = df_labdata[df_labdata.duplicated()]\n",
    "# found no duplicates in duplicate2"
   ]
  },
  {
   "cell_type": "code",
   "execution_count": 16,
   "metadata": {},
   "outputs": [
    {
     "name": "stdout",
     "output_type": "stream",
     "text": [
      "Total number of mice is 249\n"
     ]
    }
   ],
   "source": [
    "# Checking the number of mice in the clean DataFrame.\n",
    "total_mice = df_labdata[\"Mouse ID\"].nunique()\n",
    "print(f'Total number of mice is {total_mice}')"
   ]
  },
  {
   "cell_type": "markdown",
   "metadata": {},
   "source": [
    "## Summary Statistics"
   ]
  },
  {
   "cell_type": "code",
   "execution_count": 258,
   "metadata": {},
   "outputs": [],
   "source": [
    "# Dependencies\n",
    "import numpy as np"
   ]
  },
  {
   "cell_type": "code",
   "execution_count": 119,
   "metadata": {},
   "outputs": [],
   "source": [
    "# Generate a summary statistics table of mean, median, variance, standard deviation, and SEM of the tumor volume for each regimen\n",
    "SS_mean = df_labdata.groupby(['Drug Regimen'])[\"Tumor Volume (mm3)\"].mean()\n",
    "SS_median = df_labdata.groupby(['Drug Regimen'])[\"Tumor Volume (mm3)\"].median()\n",
    "SS_mode = df_labdata.groupby([\"Drug Regimen\"])[\"Tumor Volume (mm3)\"].agg(st.mode)\n",
    "SS_var=df_labdata.groupby([\"Drug Regimen\"])[\"Tumor Volume (mm3)\"].var()\n",
    "SS_std=df_labdata.groupby([\"Drug Regimen\"])[\"Tumor Volume (mm3)\"].std()\n",
    "SS_sem=df_labdata.groupby([\"Drug Regimen\"])[\"Tumor Volume (mm3)\"].sem()\n",
    "\n",
    "# This method is the most straighforward, creating multiple series and putting them all together at the end.\n",
    "df_SummaryStats = pd.concat([SS_mean,SS_median,SS_mode,SS_var,SS_std,SS_sem], axis=1)\n",
    "df_SummaryStats.columns = ['Mean','Median','Mode','Variance','StDev','SEM']"
   ]
  },
  {
   "cell_type": "code",
   "execution_count": 535,
   "metadata": {
    "scrolled": true
   },
   "outputs": [
    {
     "data": {
      "text/html": [
       "<div>\n",
       "<style scoped>\n",
       "    .dataframe tbody tr th:only-of-type {\n",
       "        vertical-align: middle;\n",
       "    }\n",
       "\n",
       "    .dataframe tbody tr th {\n",
       "        vertical-align: top;\n",
       "    }\n",
       "\n",
       "    .dataframe thead th {\n",
       "        text-align: right;\n",
       "    }\n",
       "</style>\n",
       "<table border=\"1\" class=\"dataframe\">\n",
       "  <thead>\n",
       "    <tr style=\"text-align: right;\">\n",
       "      <th></th>\n",
       "      <th>Mean</th>\n",
       "      <th>Median</th>\n",
       "      <th>Mode</th>\n",
       "      <th>Variance</th>\n",
       "      <th>StDev</th>\n",
       "      <th>SEM</th>\n",
       "    </tr>\n",
       "    <tr>\n",
       "      <th>Drug Regimen</th>\n",
       "      <th></th>\n",
       "      <th></th>\n",
       "      <th></th>\n",
       "      <th></th>\n",
       "      <th></th>\n",
       "      <th></th>\n",
       "    </tr>\n",
       "  </thead>\n",
       "  <tbody>\n",
       "    <tr>\n",
       "      <th>Capomulin</th>\n",
       "      <td>40.675741</td>\n",
       "      <td>41.557809</td>\n",
       "      <td>([45.0], [25])</td>\n",
       "      <td>24.947764</td>\n",
       "      <td>4.994774</td>\n",
       "      <td>0.329346</td>\n",
       "    </tr>\n",
       "    <tr>\n",
       "      <th>Ceftamin</th>\n",
       "      <td>52.591172</td>\n",
       "      <td>51.776157</td>\n",
       "      <td>([45.0], [25])</td>\n",
       "      <td>39.290177</td>\n",
       "      <td>6.268188</td>\n",
       "      <td>0.469821</td>\n",
       "    </tr>\n",
       "    <tr>\n",
       "      <th>Infubinol</th>\n",
       "      <td>52.884795</td>\n",
       "      <td>51.820584</td>\n",
       "      <td>([45.0], [25])</td>\n",
       "      <td>43.128684</td>\n",
       "      <td>6.567243</td>\n",
       "      <td>0.492236</td>\n",
       "    </tr>\n",
       "    <tr>\n",
       "      <th>Ketapril</th>\n",
       "      <td>55.235638</td>\n",
       "      <td>53.698743</td>\n",
       "      <td>([45.0], [25])</td>\n",
       "      <td>68.553577</td>\n",
       "      <td>8.279709</td>\n",
       "      <td>0.603860</td>\n",
       "    </tr>\n",
       "    <tr>\n",
       "      <th>Naftisol</th>\n",
       "      <td>54.331565</td>\n",
       "      <td>52.509285</td>\n",
       "      <td>([45.0], [25])</td>\n",
       "      <td>66.173479</td>\n",
       "      <td>8.134708</td>\n",
       "      <td>0.596466</td>\n",
       "    </tr>\n",
       "    <tr>\n",
       "      <th>Placebo</th>\n",
       "      <td>54.033581</td>\n",
       "      <td>52.288934</td>\n",
       "      <td>([45.0], [25])</td>\n",
       "      <td>61.168083</td>\n",
       "      <td>7.821003</td>\n",
       "      <td>0.581331</td>\n",
       "    </tr>\n",
       "    <tr>\n",
       "      <th>Propriva</th>\n",
       "      <td>52.368318</td>\n",
       "      <td>50.909965</td>\n",
       "      <td>([45.0], [25])</td>\n",
       "      <td>42.278090</td>\n",
       "      <td>6.502160</td>\n",
       "      <td>0.514041</td>\n",
       "    </tr>\n",
       "    <tr>\n",
       "      <th>Ramicane</th>\n",
       "      <td>40.216745</td>\n",
       "      <td>40.673236</td>\n",
       "      <td>([45.0], [25])</td>\n",
       "      <td>23.486704</td>\n",
       "      <td>4.846308</td>\n",
       "      <td>0.320955</td>\n",
       "    </tr>\n",
       "    <tr>\n",
       "      <th>Stelasyn</th>\n",
       "      <td>54.233149</td>\n",
       "      <td>52.431737</td>\n",
       "      <td>([45.0], [24])</td>\n",
       "      <td>59.450562</td>\n",
       "      <td>7.710419</td>\n",
       "      <td>0.573111</td>\n",
       "    </tr>\n",
       "    <tr>\n",
       "      <th>Zoniferol</th>\n",
       "      <td>53.236507</td>\n",
       "      <td>51.818479</td>\n",
       "      <td>([45.0], [25])</td>\n",
       "      <td>48.533355</td>\n",
       "      <td>6.966589</td>\n",
       "      <td>0.516398</td>\n",
       "    </tr>\n",
       "  </tbody>\n",
       "</table>\n",
       "</div>"
      ],
      "text/plain": [
       "                   Mean     Median            Mode   Variance     StDev  \\\n",
       "Drug Regimen                                                              \n",
       "Capomulin     40.675741  41.557809  ([45.0], [25])  24.947764  4.994774   \n",
       "Ceftamin      52.591172  51.776157  ([45.0], [25])  39.290177  6.268188   \n",
       "Infubinol     52.884795  51.820584  ([45.0], [25])  43.128684  6.567243   \n",
       "Ketapril      55.235638  53.698743  ([45.0], [25])  68.553577  8.279709   \n",
       "Naftisol      54.331565  52.509285  ([45.0], [25])  66.173479  8.134708   \n",
       "Placebo       54.033581  52.288934  ([45.0], [25])  61.168083  7.821003   \n",
       "Propriva      52.368318  50.909965  ([45.0], [25])  42.278090  6.502160   \n",
       "Ramicane      40.216745  40.673236  ([45.0], [25])  23.486704  4.846308   \n",
       "Stelasyn      54.233149  52.431737  ([45.0], [24])  59.450562  7.710419   \n",
       "Zoniferol     53.236507  51.818479  ([45.0], [25])  48.533355  6.966589   \n",
       "\n",
       "                   SEM  \n",
       "Drug Regimen            \n",
       "Capomulin     0.329346  \n",
       "Ceftamin      0.469821  \n",
       "Infubinol     0.492236  \n",
       "Ketapril      0.603860  \n",
       "Naftisol      0.596466  \n",
       "Placebo       0.581331  \n",
       "Propriva      0.514041  \n",
       "Ramicane      0.320955  \n",
       "Stelasyn      0.573111  \n",
       "Zoniferol     0.516398  "
      ]
     },
     "execution_count": 535,
     "metadata": {},
     "output_type": "execute_result"
    }
   ],
   "source": [
    "# Generate a summary statistics table of mean, median, variance, standard dev\n",
    "df_SummaryStats"
   ]
  },
  {
   "cell_type": "markdown",
   "metadata": {},
   "source": [
    "### Data shows that the drugs with lower mean (avg size of tumor after 45 days) seem to be working better than drugs with higher mean. Capomulin and Ramicane stand out with the lowest values"
   ]
  },
  {
   "cell_type": "markdown",
   "metadata": {},
   "source": [
    "## Bar Plots"
   ]
  },
  {
   "cell_type": "code",
   "execution_count": 152,
   "metadata": {},
   "outputs": [],
   "source": [
    "#the number of mice per time point for each treatment\n",
    "timepoint= df_labdata.groupby([\"Drug Regimen\",\"Timepoint\"])[\"Mouse ID\"].count()\n",
    "#timepoint"
   ]
  },
  {
   "cell_type": "code",
   "execution_count": 153,
   "metadata": {},
   "outputs": [
    {
     "data": {
      "image/png": "[encoded data removed]",
      "text/plain": [
       "<Figure size 1440x720 with 1 Axes>"
      ]
     },
     "metadata": {
      "needs_background": "light"
     },
     "output_type": "display_data"
    }
   ],
   "source": [
    "# Generate a bar plot showing the number of mice per time point for each treatment throughout the course of the study using pandas. \n",
    "\n",
    "timepoint.plot(kind=\"bar\", figsize=(20,10))\n",
    "\n",
    "# Set a title for the chart\n",
    "plt.title(\"Number of mice per timepoint for each treatment\")\n",
    "\n",
    "plt.tight_layout()\n",
    "plt.show()"
   ]
  },
  {
   "cell_type": "markdown",
   "metadata": {},
   "source": [
    "### Bar graph shows number of mice per drug. At day 45, we see a couple of drugs have not been working due to the decrease in number of mice present at day 45.\n",
    "### Capomulin is the more consistent drug showing most of the mice didnt die."
   ]
  },
  {
   "cell_type": "code",
   "execution_count": 295,
   "metadata": {},
   "outputs": [],
   "source": [
    "#Calcuat Y axis and variables\n",
    "y_values= df_labdata.groupby([\"Drug Regimen\",\"Timepoint\"])[\"Mouse ID\"].count()\n",
    "type(y_values)\n",
    "y_values_new = y_values.reset_index(drop=True)\n",
    "y_values_new\n",
    "y2 = y_values_new.to_numpy()"
   ]
  },
  {
   "cell_type": "code",
   "execution_count": 304,
   "metadata": {},
   "outputs": [],
   "source": [
    "#Calcuat X axis and variables\n",
    "x_values_all= df_labdata[\"Drug Regimen\"] + df_labdata[\"Timepoint\"].astype(str)\n",
    "x_values = x_values_all.unique()\n"
   ]
  },
  {
   "cell_type": "code",
   "execution_count": 309,
   "metadata": {},
   "outputs": [
    {
     "data": {
      "text/plain": [
       "Text(0, 0.5, 'Number of mice')"
      ]
     },
     "execution_count": 309,
     "metadata": {},
     "output_type": "execute_result"
    },
    {
     "data": {
      "image/png": "[encoded data removed]",
      "text/plain": [
       "<Figure size 432x288 with 1 Axes>"
      ]
     },
     "metadata": {
      "needs_background": "light"
     },
     "output_type": "display_data"
    }
   ],
   "source": [
    "# Generate a bar plot showing the number of mice per time point for each treatment throughout the course of the study using pyplot.\n",
    "x_axis = np.arange(len(x_values))\n",
    "y_axis = y2\n",
    "\n",
    "plt.bar(x_axis,y_axis, color='r', alpha=0.8, align=\"center\",width=0.5)\n",
    "\n",
    "# Give chart some labels and a tile\n",
    "plt.title(\"Number of mice per timepoint for each treatment\")\n",
    "plt.xlabel(\"Drug Regimen/Timepoint\")\n",
    "plt.ylabel(\"Number of mice\")\n",
    "\n",
    "#Extremely hard to read the labels so I removed them \n",
    "#Tell matplotlib where we would like to place each of our x axis headers\n",
    "#tick_locations = [value for value in x_axis]\n",
    "#plt.xticks(tick_locations, x_axis)"
   ]
  },
  {
   "cell_type": "markdown",
   "metadata": {},
   "source": [
    "## Pie Plots"
   ]
  },
  {
   "cell_type": "markdown",
   "metadata": {},
   "source": [
    "### Pie plots show the distribution between females and males. There was one less female than a male."
   ]
  },
  {
   "cell_type": "code",
   "execution_count": 348,
   "metadata": {},
   "outputs": [],
   "source": [
    "#Pie plots\n",
    "labels = [\"Female\",\"Male\"]\n",
    "df_sexdata = df_labdata[[\"Mouse ID\",'Sex']]\n",
    "df_1 = df_labdata.groupby([\"Mouse ID\",'Sex'])[\"Mouse ID\"].nunique()\n",
    "sexSummary = df_1.groupby([\"Sex\"]).sum()\n",
    "\n",
    "#find number of mice per sex\n",
    "female = sexSummary[0]\n",
    "male = sexSummary[1]"
   ]
  },
  {
   "cell_type": "code",
   "execution_count": 360,
   "metadata": {},
   "outputs": [
    {
     "data": {
      "image/png": "[encoded data removed]",
      "text/plain": [
       "<Figure size 360x360 with 1 Axes>"
      ]
     },
     "metadata": {},
     "output_type": "display_data"
    }
   ],
   "source": [
    "# Generate a pie plot showing the distribution of female versus male mice using pandas\n",
    "df = pd.DataFrame({'Sex': [female, male]},\n",
    "                  index=['Female', 'Male'])\n",
    "plot = df.plot.pie(y='Sex', title = \"Sex Distribution\", autopct='%1.1f%%', figsize=(5, 5))"
   ]
  },
  {
   "cell_type": "code",
   "execution_count": 362,
   "metadata": {},
   "outputs": [
    {
     "data": {
      "text/plain": [
       "Text(0.5, 1.0, 'Sex Distribution')"
      ]
     },
     "execution_count": 362,
     "metadata": {},
     "output_type": "execute_result"
    },
    {
     "data": {
      "image/png": "[encoded data removed]",
      "text/plain": [
       "<Figure size 432x288 with 1 Axes>"
      ]
     },
     "metadata": {},
     "output_type": "display_data"
    }
   ],
   "source": [
    "# Generate a pie plot showing the distribution of female versus male mice using pyplot\n",
    "\n",
    "# The values of each section of the pie chart\n",
    "sizes = [female, male]\n",
    "\n",
    "# The colors of each section of the pie chart\n",
    "colors = [\"red\", \"blue\"]\n",
    "\n",
    "# Tells matplotlib to seperate sections from the others\n",
    "explode = (0.1, 0)\n",
    "\n",
    "# Creates the pie chart based upon the values above\n",
    "# Automatically finds the percentages of each part of the pie chart\n",
    "plt.pie(sizes, explode=explode, labels=labels, colors=colors,\n",
    "        autopct=\"%1.1f%%\", shadow=True, startangle=140)\n",
    "plt.title(\"Sex Distribution\")\n"
   ]
  },
  {
   "cell_type": "markdown",
   "metadata": {},
   "source": [
    "## Quartiles, Outliers and Boxplots"
   ]
  },
  {
   "cell_type": "code",
   "execution_count": 459,
   "metadata": {},
   "outputs": [
    {
     "data": {
      "text/plain": [
       "<matplotlib.axes._subplots.AxesSubplot at 0x1c6ba239250>"
      ]
     },
     "execution_count": 459,
     "metadata": {},
     "output_type": "execute_result"
    },
    {
     "data": {
      "image/png": "[encoded data removed]",
      "text/plain": [
       "<Figure size 1440x720 with 1 Axes>"
      ]
     },
     "metadata": {
      "needs_background": "light"
     },
     "output_type": "display_data"
    }
   ],
   "source": [
    "#Code below shows the avg size of the tumer after the treatment.  only two treaments worked well reducing the size of the tumor.\n",
    "\n",
    "#tumorvolume = df_labdata.groupby([\"Drug Regimen\",\"Timepoint\"])[\"Tumor Volume (mm3)\"].mean()\n",
    "\n",
    "#tumorvolume.plot(kind=\"bar\", figsize=(20,10))\n",
    "# plt.axvline()\n",
    "#plt.axvline(x=24,ymin=0,ymax=1,color='red')\n",
    "#plt.show() \n"
   ]
  },
  {
   "cell_type": "code",
   "execution_count": 469,
   "metadata": {},
   "outputs": [
    {
     "name": "stdout",
     "output_type": "stream",
     "text": [
      "The lower quartile of volume is: 40.2202\n",
      "The upper quartile of volume is: 50.3565\n",
      "The interquartile range of volume is: 10.1363\n",
      "The median of volume is: 45.0 \n",
      "Values below 25.0157 could be outliers.\n",
      "Values above 65.5609 could be outliers.\n"
     ]
    }
   ],
   "source": [
    "# Calculate the final tumor volume of each mouse across four of the most promising treatment regimens. Calculate the IQR and quantitatively determine if there are any potential outliers. \n",
    "#Capomulin, Ramicane, Infubinol, and Ceftamin\n",
    "\n",
    "df_Ca = df_labdata[df_labdata[\"Drug Regimen\"] == 'Capomulin'] \n",
    "df_CaFixed = df_labdata[df_labdata[\"Drug Regimen\"] == 'Capomulin'] \n",
    "df_Ra = df_labdata[df_labdata[\"Drug Regimen\"] == 'Ramicane']\n",
    "df_In= df_labdata[df_labdata[\"Drug Regimen\"] == 'Infubinol']\n",
    "df_Ce= df_labdata[df_labdata[\"Drug Regimen\"] == 'Ceftamin']\n",
    "\n",
    "frames = [df_CaFixed,df_Ra,df_In,df_Ce]\n",
    "\n",
    "df_promising1 = pd.concat(frames)\n",
    "df_promising_45 = df_Promising1[df_Promising1[\"Timepoint\"]==45]\n",
    "df_promising_45\n",
    "volume = df_Promising45[\"Tumor Volume (mm3)\"]\n",
    "volume_array = volume.to_numpy()\n",
    "#volume_array\n",
    "\n",
    "# If the data is in a dataframe, we use pandas to give quartile calculations\n",
    "quartiles = volume.quantile([.25,.5,.75])\n",
    "lowerq = quartiles[0.25]\n",
    "upperq = quartiles[0.75]\n",
    "iqr = upperq-lowerq\n",
    "\n",
    "print(f\"The lower quartile of volume is: {round(lowerq,4)}\")\n",
    "print(f\"The upper quartile of volume is: {round(upperq,4)}\")\n",
    "print(f\"The interquartile range of volume is: {round(iqr,4)}\")\n",
    "print(f\"The median of volume is: {quartiles[0.5]} \")\n",
    "\n",
    "lower_bound = lowerq - (1.5*iqr)\n",
    "upper_bound = upperq + (1.5*iqr)\n",
    "print(f\"Values below {round(lower_bound,4)} could be outliers.\")\n",
    "print(f\"Values above {round(upper_bound,4)} could be outliers.\")\n"
   ]
  },
  {
   "cell_type": "code",
   "execution_count": 1,
   "metadata": {},
   "outputs": [],
   "source": [
    "#Code below only generated one box plot.  Multiple box plots in next line\n",
    "\n",
    "# Generate a box plot of the final tumor volume of each mouse across four regimens of interest\n",
    "#volume_array.sort()\n",
    "#fig1, ax1 = plt.subplots()\n",
    "#ax1.set_title('Tumor volume on day 45')\n",
    "#ax1.set_ylabel('Volume (mm3)')\n",
    "#ax1.boxplot(volume_array)\n",
    "#plt.show()"
   ]
  },
  {
   "cell_type": "code",
   "execution_count": 556,
   "metadata": {},
   "outputs": [],
   "source": [
    "#Code for muliple box plots\n",
    "\n",
    "df_Ce_45 = df_Ce[df_Ce[\"Timepoint\"]==45]\n",
    "volume_Ce = df_Ce_45[\"Tumor Volume (mm3)\"]\n",
    "\n",
    "df_In_45 = df_In[df_In[\"Timepoint\"]==45]\n",
    "volume_In = df_In_45[\"Tumor Volume (mm3)\"]\n",
    "\n",
    "df_Ra_45 = df_Ra[df_Ra[\"Timepoint\"]==45]\n",
    "volume_Ra = df_Ra_45[\"Tumor Volume (mm3)\"]\n",
    "\n",
    "df_CapData_45 = df_CapData[df_CapData[\"Timepoint\"]==45]\n",
    "volume_Cap = df_CapData_45[\"Tumor Volume (mm3)\"]\n",
    "\n",
    "frames1 = [df_CapData_45,df_Ra_45,df_In_45,df_Ce_45]\n",
    "\n",
    "df_allData45v1 = pd.concat(frames1)\n",
    "#data = [df_Ce_45, df_In_45, df_Ra_45,df_CapData_45]\n",
    "\n",
    "#fig7, ax7 = plt.subplots()\n",
    "#ax7.set_title('Multiple Samples with Different sizes')\n",
    "#ax7.boxplot(data)\n",
    "\n",
    "#plt.show()"
   ]
  },
  {
   "cell_type": "code",
   "execution_count": 562,
   "metadata": {},
   "outputs": [
    {
     "data": {
      "text/plain": [
       "<matplotlib.axes._subplots.AxesSubplot at 0x1c6bc929490>"
      ]
     },
     "execution_count": 562,
     "metadata": {},
     "output_type": "execute_result"
    },
    {
     "data": {
      "image/png": "[encoded data removed]",
      "text/plain": [
       "<Figure size 432x288 with 1 Axes>"
      ]
     },
     "metadata": {
      "needs_background": "light"
     },
     "output_type": "display_data"
    }
   ],
   "source": [
    "df_allData45v1.boxplot(by ='Drug Regimen', column =['Tumor Volume (mm3)'], grid = False, fontsize=12 ) \n"
   ]
  },
  {
   "cell_type": "markdown",
   "metadata": {},
   "source": [
    "### Box plots also conclude similar information seen above. The tumor of the volume decreases significately more with the two most promising drugs: Capomulin and Ramicane"
   ]
  },
  {
   "cell_type": "markdown",
   "metadata": {},
   "source": [
    "## Line and Scatter Plots"
   ]
  },
  {
   "cell_type": "code",
   "execution_count": null,
   "metadata": {},
   "outputs": [],
   "source": [
    "df_CapData = df_labdata[df_labdata[\"Drug Regimen\"]==\"Capomulin\"]"
   ]
  },
  {
   "cell_type": "code",
   "execution_count": 538,
   "metadata": {},
   "outputs": [],
   "source": [
    "df_CapDataTime = df_CapData.groupby([\"Timepoint\"]).mean()\n",
    "#df_CapDataTime"
   ]
  },
  {
   "cell_type": "code",
   "execution_count": 521,
   "metadata": {},
   "outputs": [
    {
     "data": {
      "image/png": "[encoded data removed]",
      "text/plain": [
       "<Figure size 432x288 with 1 Axes>"
      ]
     },
     "metadata": {
      "needs_background": "light"
     },
     "output_type": "display_data"
    }
   ],
   "source": [
    "# Generate a line plot of time point versus tumor volume for a mouse treated with Capomulin\n",
    "\n",
    "time = df_CapDataTime.index\n",
    "#time2 = time.to_numpy()\n",
    "\n",
    "volume = df_CapDataTime[\"Tumor Volume (mm3)\"]\n",
    "#volume2 = volume.to_numpy()\n",
    "#time2.sort(),volume2.sort()\n",
    "\n",
    "world_avg, = plt.plot(time, volume, color=\"blue\")\n",
    "\n",
    "plt.title(\"Capomulin: Time point vs. Tumor volumes\")\n",
    "plt.xlabel(\"Time\")\n",
    "plt.ylabel(\"Tumor Volume (mm3)\")\n",
    "\n",
    "\n",
    "plt.show()"
   ]
  },
  {
   "cell_type": "markdown",
   "metadata": {},
   "source": [
    "### Capomulin shows good results that as time goes on, the size of the tumer reduces"
   ]
  },
  {
   "cell_type": "code",
   "execution_count": 539,
   "metadata": {},
   "outputs": [],
   "source": [
    "#df_CapData = df_labdata[df_labdata[\"Drug Regimen\"]==\"Capomulin\"]\n",
    "#df_CapDataTime = df_CapData.groupby([\"Timepoint\"]).mean()\n",
    "#df_CapData[df_CapData[\"Weight (g)\"]== 15]"
   ]
  },
  {
   "cell_type": "code",
   "execution_count": 522,
   "metadata": {},
   "outputs": [
    {
     "data": {
      "text/plain": [
       "Text(0, 0.5, 'Tumor Volume (mm3)')"
      ]
     },
     "execution_count": 522,
     "metadata": {},
     "output_type": "execute_result"
    },
    {
     "data": {
      "image/png": "[encoded data removed]",
      "text/plain": [
       "<Figure size 432x288 with 1 Axes>"
      ]
     },
     "metadata": {
      "needs_background": "light"
     },
     "output_type": "display_data"
    }
   ],
   "source": [
    "# Generate a scatter plot of mouse weight versus average tumor volume for the Capomulin regimen\n",
    "\n",
    "weight = df_CapData[\"Weight (g)\"]\n",
    "weight3 = weight.to_numpy()\n",
    "\n",
    "volume = df_CapData[\"Tumor Volume (mm3)\"]\n",
    "volume3 = volume.to_numpy()\n",
    "#weight2.sort(),v2.sort()\n",
    "plt.scatter(weight3, volume3, marker=\"o\", facecolors=\"red\", edgecolors=\"black\")\n",
    "\n",
    "plt.title(\"Weight vs Tumor Volume\")\n",
    "plt.xlabel(\"Weight (g)\")\n",
    "plt.ylabel(\"Tumor Volume (mm3)\")\n"
   ]
  },
  {
   "cell_type": "markdown",
   "metadata": {},
   "source": [
    "## Correlation and Regression"
   ]
  },
  {
   "cell_type": "code",
   "execution_count": 528,
   "metadata": {},
   "outputs": [],
   "source": [
    "from scipy.stats import linregress"
   ]
  },
  {
   "cell_type": "code",
   "execution_count": 526,
   "metadata": {},
   "outputs": [
    {
     "name": "stdout",
     "output_type": "stream",
     "text": [
      "The correlation coefficient between malic acid and flavanoids is 0.53\n"
     ]
    }
   ],
   "source": [
    "# Calculate the correlation coefficient and linear regression model \n",
    "# for mouse weight and average tumor volume for the Capomulin regimen\n",
    "print(f\"The correlation coefficient between weight and tumor volume is {round(st.pearsonr(weight3,volume3)[0],2)}\") "
   ]
  },
  {
   "cell_type": "markdown",
   "metadata": {},
   "source": [
    "### With a correlation coefficient of 0.53 we have a relatively good correlation.\n",
    "### Showing that the tumor volume increases as the mice are bigger"
   ]
  },
  {
   "cell_type": "code",
   "execution_count": 529,
   "metadata": {},
   "outputs": [],
   "source": [
    "x_values = df_CapData[\"Weight (g)\"]\n",
    "y_values = df_CapData[\"Tumor Volume (mm3)\"]\n",
    "(slope, intercept, rvalue, pvalue, stderr) = linregress(x_values, y_values)"
   ]
  },
  {
   "cell_type": "code",
   "execution_count": 533,
   "metadata": {},
   "outputs": [
    {
     "data": {
      "image/png": "[encoded data removed]",
      "text/plain": [
       "<Figure size 432x288 with 1 Axes>"
      ]
     },
     "metadata": {
      "needs_background": "light"
     },
     "output_type": "display_data"
    }
   ],
   "source": [
    "regress_values = x_values * slope + intercept\n",
    "line_eq = \"y = \" + str(round(slope,2)) + \"x + \" + str(round(intercept,2))\n",
    "plt.scatter(x_values,y_values)\n",
    "plt.plot(x_values,regress_values,\"r-\")\n",
    "plt.annotate(line_eq,(6,10),fontsize=20,color=\"red\")\n",
    "\n",
    "plt.title(\"Weight vs Tumor Volume\")\n",
    "plt.xlabel(\"Weight (g)\")\n",
    "plt.ylabel(\"Tumor Volume (mm3)\")\n",
    "plt.show()"
   ]
  },
  {
   "cell_type": "code",
   "execution_count": null,
   "metadata": {},
   "outputs": [],
   "source": []
  }
 ],
 "metadata": {
  "anaconda-cloud": {},
  "kernelspec": {
   "display_name": "Python 3",
   "language": "python",
   "name": "python3"
  },
  "language_info": {
   "codemirror_mode": {
    "name": "ipython",
    "version": 3
   },
   "file_extension": ".py",
   "mimetype": "text/x-python",
   "name": "python",
   "nbconvert_exporter": "python",
   "pygments_lexer": "ipython3",
   "version": "3.8.3"
  }
 },
 "nbformat": 4,
 "nbformat_minor": 4
}
